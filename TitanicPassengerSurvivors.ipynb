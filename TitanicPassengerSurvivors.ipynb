{
 "cells": [
  {
   "cell_type": "code",
   "execution_count": 1,
   "id": "d983c30b",
   "metadata": {},
   "outputs": [],
   "source": [
    "### Survival of Titanic Passengers\n",
    "## Objectives:\n",
    "## 1): Started with Data Exploration, performed missing data check and learned which features are important\n",
    "## 2): Converted categorical features into numeric ones\n",
    "## 3): Built a classifier to predict survival\n",
    "## 4): Evaluated the model performance using the classification report\n",
    "\n",
    "\n",
    "###Import all necessary libraries\n",
    "import pandas as pd\n",
    "import numpy as np\n",
    "\n",
    "import matplotlib\n",
    "import matplotlib.pyplot as plt\n",
    "from pandas.plotting import scatter_matrix\n",
    "%matplotlib inline\n",
    "\n",
    "import seaborn as sns\n",
    "sns.set(style=\"white\",color_codes=True)\n",
    "sns.set(font_scale=1.5)\n",
    "\n",
    "from sklearn.linear_model import LogisticRegression\n",
    "from sklearn.model_selection import train_test_split\n",
    "\n",
    "from sklearn.metrics import confusion_matrix\n",
    "from sklearn.metrics import classification_report\n",
    "from sklearn.metrics import accuracy_score\n",
    "from sklearn.metrics import precision_score\n",
    "from sklearn.metrics import recall_score\n",
    "from sklearn.metrics import f1_score\n",
    "from sklearn import metrics\n",
    "## Import warnings library so that code ignores warning when running but will notify you when a warning appears\n",
    "## without interrupting the code running\n",
    "import warnings\n",
    "\n",
    "\n"
   ]
  },
  {
   "cell_type": "code",
   "execution_count": 2,
   "id": "9a9fbbb5",
   "metadata": {},
   "outputs": [
    {
     "data": {
      "text/plain": [
       "(891, 12)"
      ]
     },
     "execution_count": 2,
     "metadata": {},
     "output_type": "execute_result"
    }
   ],
   "source": [
    "### Importing the CSV with the dataset\n",
    "df_train = pd.read_csv('train.csv')\n",
    "### printing the shape of the dataset (rows,columns); Data Exploration\n",
    "df_train.shape"
   ]
  },
  {
   "cell_type": "code",
   "execution_count": 3,
   "id": "4ce6a4f3",
   "metadata": {},
   "outputs": [
    {
     "data": {
      "text/plain": [
       "0    549\n",
       "1    342\n",
       "Name: Survived, dtype: int64"
      ]
     },
     "execution_count": 3,
     "metadata": {},
     "output_type": "execute_result"
    }
   ],
   "source": [
    "### Data Exploration\n",
    "### showing the boolean values of how many people survived and how many didnt survive\n",
    "df_train.Survived.value_counts()"
   ]
  },
  {
   "cell_type": "code",
   "execution_count": 4,
   "id": "e0ded218",
   "metadata": {},
   "outputs": [
    {
     "data": {
      "text/plain": [
       "male      577\n",
       "female    314\n",
       "Name: Sex, dtype: int64"
      ]
     },
     "execution_count": 4,
     "metadata": {},
     "output_type": "execute_result"
    }
   ],
   "source": [
    "df_train.Sex.value_counts()"
   ]
  },
  {
   "cell_type": "code",
   "execution_count": 5,
   "id": "373295ab",
   "metadata": {},
   "outputs": [
    {
     "data": {
      "text/plain": [
       "S    644\n",
       "C    168\n",
       "Q     77\n",
       "Name: Embarked, dtype: int64"
      ]
     },
     "execution_count": 5,
     "metadata": {},
     "output_type": "execute_result"
    }
   ],
   "source": [
    "df_train.Embarked.value_counts()"
   ]
  },
  {
   "cell_type": "code",
   "execution_count": 6,
   "id": "57e457c3",
   "metadata": {},
   "outputs": [
    {
     "data": {
      "text/plain": [
       "PassengerId      0\n",
       "Survived         0\n",
       "Pclass           0\n",
       "Name             0\n",
       "Sex              0\n",
       "Age            177\n",
       "SibSp            0\n",
       "Parch            0\n",
       "Ticket           0\n",
       "Fare             0\n",
       "Cabin          687\n",
       "Embarked         2\n",
       "dtype: int64"
      ]
     },
     "execution_count": 6,
     "metadata": {},
     "output_type": "execute_result"
    }
   ],
   "source": [
    "### Shows the sum of all null values per category\n",
    "df_train.isnull().sum()"
   ]
  },
  {
   "cell_type": "code",
   "execution_count": 7,
   "id": "a29fb10c",
   "metadata": {},
   "outputs": [
    {
     "data": {
      "text/plain": [
       "(891, 12)"
      ]
     },
     "execution_count": 7,
     "metadata": {},
     "output_type": "execute_result"
    }
   ],
   "source": [
    "df_train.shape"
   ]
  },
  {
   "cell_type": "code",
   "execution_count": 9,
   "id": "c3311a8e",
   "metadata": {},
   "outputs": [
    {
     "data": {
      "text/html": [
       "<div>\n",
       "<style scoped>\n",
       "    .dataframe tbody tr th:only-of-type {\n",
       "        vertical-align: middle;\n",
       "    }\n",
       "\n",
       "    .dataframe tbody tr th {\n",
       "        vertical-align: top;\n",
       "    }\n",
       "\n",
       "    .dataframe thead th {\n",
       "        text-align: right;\n",
       "    }\n",
       "</style>\n",
       "<table border=\"1\" class=\"dataframe\">\n",
       "  <thead>\n",
       "    <tr style=\"text-align: right;\">\n",
       "      <th></th>\n",
       "      <th>Survived</th>\n",
       "      <th>Pclass</th>\n",
       "      <th>Sex</th>\n",
       "      <th>Age</th>\n",
       "      <th>SibSp</th>\n",
       "      <th>Parch</th>\n",
       "      <th>Fare</th>\n",
       "      <th>Embarked</th>\n",
       "    </tr>\n",
       "  </thead>\n",
       "  <tbody>\n",
       "    <tr>\n",
       "      <th>0</th>\n",
       "      <td>0</td>\n",
       "      <td>3</td>\n",
       "      <td>male</td>\n",
       "      <td>22.0</td>\n",
       "      <td>1</td>\n",
       "      <td>0</td>\n",
       "      <td>7.2500</td>\n",
       "      <td>S</td>\n",
       "    </tr>\n",
       "    <tr>\n",
       "      <th>1</th>\n",
       "      <td>1</td>\n",
       "      <td>1</td>\n",
       "      <td>female</td>\n",
       "      <td>38.0</td>\n",
       "      <td>1</td>\n",
       "      <td>0</td>\n",
       "      <td>71.2833</td>\n",
       "      <td>C</td>\n",
       "    </tr>\n",
       "    <tr>\n",
       "      <th>2</th>\n",
       "      <td>1</td>\n",
       "      <td>3</td>\n",
       "      <td>female</td>\n",
       "      <td>26.0</td>\n",
       "      <td>0</td>\n",
       "      <td>0</td>\n",
       "      <td>7.9250</td>\n",
       "      <td>S</td>\n",
       "    </tr>\n",
       "    <tr>\n",
       "      <th>3</th>\n",
       "      <td>1</td>\n",
       "      <td>1</td>\n",
       "      <td>female</td>\n",
       "      <td>35.0</td>\n",
       "      <td>1</td>\n",
       "      <td>0</td>\n",
       "      <td>53.1000</td>\n",
       "      <td>S</td>\n",
       "    </tr>\n",
       "    <tr>\n",
       "      <th>4</th>\n",
       "      <td>0</td>\n",
       "      <td>3</td>\n",
       "      <td>male</td>\n",
       "      <td>35.0</td>\n",
       "      <td>0</td>\n",
       "      <td>0</td>\n",
       "      <td>8.0500</td>\n",
       "      <td>S</td>\n",
       "    </tr>\n",
       "  </tbody>\n",
       "</table>\n",
       "</div>"
      ],
      "text/plain": [
       "   Survived  Pclass     Sex   Age  SibSp  Parch     Fare Embarked\n",
       "0         0       3    male  22.0      1      0   7.2500        S\n",
       "1         1       1  female  38.0      1      0  71.2833        C\n",
       "2         1       3  female  26.0      0      0   7.9250        S\n",
       "3         1       1  female  35.0      1      0  53.1000        S\n",
       "4         0       3    male  35.0      0      0   8.0500        S"
      ]
     },
     "execution_count": 9,
     "metadata": {},
     "output_type": "execute_result"
    }
   ],
   "source": [
    "### Dropping column values and reducing the null sum\n",
    "df_train = df_train.drop(['PassengerId','Name','Ticket','Cabin'],axis=1)\n",
    "df_train.head()"
   ]
  },
  {
   "cell_type": "code",
   "execution_count": 14,
   "id": "e87b8640",
   "metadata": {},
   "outputs": [],
   "source": [
    "### creating a function in order to better use the data\n",
    "### function that approximates the age and passenger class \n",
    "def age_approx(cols):\n",
    "    Age = cols[0]\n",
    "    Pclass = cols[1]\n",
    "    \n",
    "    if pd.isnull(Age):\n",
    "        if Pclass ==1:\n",
    "            return 37\n",
    "        elif Pclass ==2:\n",
    "            return 29\n",
    "        else:\n",
    "            return 24\n",
    "    else:\n",
    "        return Age"
   ]
  },
  {
   "cell_type": "code",
   "execution_count": 15,
   "id": "dcb0be38",
   "metadata": {},
   "outputs": [
    {
     "data": {
      "text/html": [
       "<div>\n",
       "<style scoped>\n",
       "    .dataframe tbody tr th:only-of-type {\n",
       "        vertical-align: middle;\n",
       "    }\n",
       "\n",
       "    .dataframe tbody tr th {\n",
       "        vertical-align: top;\n",
       "    }\n",
       "\n",
       "    .dataframe thead th {\n",
       "        text-align: right;\n",
       "    }\n",
       "</style>\n",
       "<table border=\"1\" class=\"dataframe\">\n",
       "  <thead>\n",
       "    <tr style=\"text-align: right;\">\n",
       "      <th></th>\n",
       "      <th>Survived</th>\n",
       "      <th>Age</th>\n",
       "      <th>SibSp</th>\n",
       "      <th>Parch</th>\n",
       "      <th>Fare</th>\n",
       "    </tr>\n",
       "    <tr>\n",
       "      <th>Pclass</th>\n",
       "      <th></th>\n",
       "      <th></th>\n",
       "      <th></th>\n",
       "      <th></th>\n",
       "      <th></th>\n",
       "    </tr>\n",
       "  </thead>\n",
       "  <tbody>\n",
       "    <tr>\n",
       "      <th>1</th>\n",
       "      <td>0.629630</td>\n",
       "      <td>38.233441</td>\n",
       "      <td>0.416667</td>\n",
       "      <td>0.356481</td>\n",
       "      <td>84.154687</td>\n",
       "    </tr>\n",
       "    <tr>\n",
       "      <th>2</th>\n",
       "      <td>0.472826</td>\n",
       "      <td>29.877630</td>\n",
       "      <td>0.402174</td>\n",
       "      <td>0.380435</td>\n",
       "      <td>20.662183</td>\n",
       "    </tr>\n",
       "    <tr>\n",
       "      <th>3</th>\n",
       "      <td>0.242363</td>\n",
       "      <td>25.140620</td>\n",
       "      <td>0.615071</td>\n",
       "      <td>0.393075</td>\n",
       "      <td>13.675550</td>\n",
       "    </tr>\n",
       "  </tbody>\n",
       "</table>\n",
       "</div>"
      ],
      "text/plain": [
       "        Survived        Age     SibSp     Parch       Fare\n",
       "Pclass                                                    \n",
       "1       0.629630  38.233441  0.416667  0.356481  84.154687\n",
       "2       0.472826  29.877630  0.402174  0.380435  20.662183\n",
       "3       0.242363  25.140620  0.615071  0.393075  13.675550"
      ]
     },
     "execution_count": 15,
     "metadata": {},
     "output_type": "execute_result"
    }
   ],
   "source": [
    "df_train.groupby(['Pclass']).mean()"
   ]
  },
  {
   "cell_type": "code",
   "execution_count": 16,
   "id": "2d31f0d9",
   "metadata": {},
   "outputs": [],
   "source": [
    "df_train['Age'] = df_train[['Age','Pclass']].apply(age_approx, axis=1)"
   ]
  },
  {
   "cell_type": "code",
   "execution_count": 17,
   "id": "e5805eb0",
   "metadata": {},
   "outputs": [
    {
     "data": {
      "text/plain": [
       "Survived    0\n",
       "Pclass      0\n",
       "Sex         0\n",
       "Age         0\n",
       "SibSp       0\n",
       "Parch       0\n",
       "Fare        0\n",
       "Embarked    2\n",
       "dtype: int64"
      ]
     },
     "execution_count": 17,
     "metadata": {},
     "output_type": "execute_result"
    }
   ],
   "source": [
    "df_train.isnull().sum()"
   ]
  },
  {
   "cell_type": "code",
   "execution_count": 20,
   "id": "2ac386ae",
   "metadata": {},
   "outputs": [
    {
     "data": {
      "text/plain": [
       "Survived    0\n",
       "Pclass      0\n",
       "Sex         0\n",
       "Age         0\n",
       "SibSp       0\n",
       "Parch       0\n",
       "Fare        0\n",
       "Embarked    0\n",
       "dtype: int64"
      ]
     },
     "execution_count": 20,
     "metadata": {},
     "output_type": "execute_result"
    }
   ],
   "source": [
    "### Dropping the null values to clean the data up\n",
    "df_train.dropna(inplace=True)\n",
    "df_train.isnull().sum()"
   ]
  },
  {
   "cell_type": "code",
   "execution_count": 21,
   "id": "3df3112c",
   "metadata": {},
   "outputs": [
    {
     "data": {
      "text/plain": [
       "Survived      int64\n",
       "Pclass        int64\n",
       "Sex          object\n",
       "Age         float64\n",
       "SibSp         int64\n",
       "Parch         int64\n",
       "Fare        float64\n",
       "Embarked     object\n",
       "dtype: object"
      ]
     },
     "execution_count": 21,
     "metadata": {},
     "output_type": "execute_result"
    }
   ],
   "source": [
    "### Checking the Data types of each variable\n",
    "df_train.dtypes"
   ]
  },
  {
   "cell_type": "code",
   "execution_count": 22,
   "id": "3e24d0dd",
   "metadata": {},
   "outputs": [],
   "source": [
    "### Creating dummies into to convert categorical features into numerical features\n",
    "df_train_dummied = pd.get_dummies(df_train,columns=[\"Sex\"])"
   ]
  },
  {
   "cell_type": "code",
   "execution_count": 23,
   "id": "19ea5cd0",
   "metadata": {},
   "outputs": [],
   "source": [
    "df_train_dummied = pd.get_dummies(df_train_dummied,columns=[\"Embarked\"])"
   ]
  },
  {
   "cell_type": "code",
   "execution_count": 26,
   "id": "d55c4898",
   "metadata": {},
   "outputs": [
    {
     "data": {
      "text/html": [
       "<div>\n",
       "<style scoped>\n",
       "    .dataframe tbody tr th:only-of-type {\n",
       "        vertical-align: middle;\n",
       "    }\n",
       "\n",
       "    .dataframe tbody tr th {\n",
       "        vertical-align: top;\n",
       "    }\n",
       "\n",
       "    .dataframe thead th {\n",
       "        text-align: right;\n",
       "    }\n",
       "</style>\n",
       "<table border=\"1\" class=\"dataframe\">\n",
       "  <thead>\n",
       "    <tr style=\"text-align: right;\">\n",
       "      <th></th>\n",
       "      <th>Survived</th>\n",
       "      <th>Pclass</th>\n",
       "      <th>Age</th>\n",
       "      <th>SibSp</th>\n",
       "      <th>Parch</th>\n",
       "      <th>Fare</th>\n",
       "      <th>Sex_female</th>\n",
       "      <th>Sex_male</th>\n",
       "      <th>Embarked_C</th>\n",
       "      <th>Embarked_Q</th>\n",
       "      <th>Embarked_S</th>\n",
       "    </tr>\n",
       "  </thead>\n",
       "  <tbody>\n",
       "    <tr>\n",
       "      <th>0</th>\n",
       "      <td>0</td>\n",
       "      <td>3</td>\n",
       "      <td>22.0</td>\n",
       "      <td>1</td>\n",
       "      <td>0</td>\n",
       "      <td>7.2500</td>\n",
       "      <td>0</td>\n",
       "      <td>1</td>\n",
       "      <td>0</td>\n",
       "      <td>0</td>\n",
       "      <td>1</td>\n",
       "    </tr>\n",
       "    <tr>\n",
       "      <th>1</th>\n",
       "      <td>1</td>\n",
       "      <td>1</td>\n",
       "      <td>38.0</td>\n",
       "      <td>1</td>\n",
       "      <td>0</td>\n",
       "      <td>71.2833</td>\n",
       "      <td>1</td>\n",
       "      <td>0</td>\n",
       "      <td>1</td>\n",
       "      <td>0</td>\n",
       "      <td>0</td>\n",
       "    </tr>\n",
       "    <tr>\n",
       "      <th>2</th>\n",
       "      <td>1</td>\n",
       "      <td>3</td>\n",
       "      <td>26.0</td>\n",
       "      <td>0</td>\n",
       "      <td>0</td>\n",
       "      <td>7.9250</td>\n",
       "      <td>1</td>\n",
       "      <td>0</td>\n",
       "      <td>0</td>\n",
       "      <td>0</td>\n",
       "      <td>1</td>\n",
       "    </tr>\n",
       "    <tr>\n",
       "      <th>3</th>\n",
       "      <td>1</td>\n",
       "      <td>1</td>\n",
       "      <td>35.0</td>\n",
       "      <td>1</td>\n",
       "      <td>0</td>\n",
       "      <td>53.1000</td>\n",
       "      <td>1</td>\n",
       "      <td>0</td>\n",
       "      <td>0</td>\n",
       "      <td>0</td>\n",
       "      <td>1</td>\n",
       "    </tr>\n",
       "    <tr>\n",
       "      <th>4</th>\n",
       "      <td>0</td>\n",
       "      <td>3</td>\n",
       "      <td>35.0</td>\n",
       "      <td>0</td>\n",
       "      <td>0</td>\n",
       "      <td>8.0500</td>\n",
       "      <td>0</td>\n",
       "      <td>1</td>\n",
       "      <td>0</td>\n",
       "      <td>0</td>\n",
       "      <td>1</td>\n",
       "    </tr>\n",
       "  </tbody>\n",
       "</table>\n",
       "</div>"
      ],
      "text/plain": [
       "   Survived  Pclass   Age  SibSp  Parch     Fare  Sex_female  Sex_male  \\\n",
       "0         0       3  22.0      1      0   7.2500           0         1   \n",
       "1         1       1  38.0      1      0  71.2833           1         0   \n",
       "2         1       3  26.0      0      0   7.9250           1         0   \n",
       "3         1       1  35.0      1      0  53.1000           1         0   \n",
       "4         0       3  35.0      0      0   8.0500           0         1   \n",
       "\n",
       "   Embarked_C  Embarked_Q  Embarked_S  \n",
       "0           0           0           1  \n",
       "1           1           0           0  \n",
       "2           0           0           1  \n",
       "3           0           0           1  \n",
       "4           0           0           1  "
      ]
     },
     "execution_count": 26,
     "metadata": {},
     "output_type": "execute_result"
    }
   ],
   "source": [
    "df_train_dummied.head()"
   ]
  },
  {
   "cell_type": "code",
   "execution_count": 27,
   "id": "3a6965cc",
   "metadata": {},
   "outputs": [
    {
     "data": {
      "text/plain": [
       "<AxesSubplot:>"
      ]
     },
     "execution_count": 27,
     "metadata": {},
     "output_type": "execute_result"
    },
    {
     "data": {
      "image/png": "[encoded data removed]",
      "text/plain": [
       "<Figure size 432x288 with 2 Axes>"
      ]
     },
     "metadata": {},
     "output_type": "display_data"
    }
   ],
   "source": [
    "###plotting the dummy variable data into a heatmap\n",
    "plt.figure(figsize=(6,4))\n",
    "sns.heatmap(df_train_dummied.corr())"
   ]
  },
  {
   "cell_type": "code",
   "execution_count": 28,
   "id": "ed88e257",
   "metadata": {},
   "outputs": [],
   "source": [
    "### Finalize the preparation of the data by grouping features that will be used in the train and test sets\n",
    "used_features = [\"Pclass\",\"Age\",\"SibSp\",\"Parch\",\"Sex_female\", \"Sex_male\",\n",
    "                \"Embarked_C\",\"Embarked_Q\",\"Embarked_S\"]\n",
    "\n",
    "X = df_train_dummied[used_features].values\n",
    "y = df_train_dummied['Survived']"
   ]
  },
  {
   "cell_type": "code",
   "execution_count": 29,
   "id": "b1b31941",
   "metadata": {},
   "outputs": [],
   "source": [
    "### Prepare the training and testing sets for the X and y features along with the parameters of the test size\n",
    "X_train,X_test,y_train,y_test = train_test_split(X,y,test_size=0.3,random_state=1)"
   ]
  },
  {
   "cell_type": "code",
   "execution_count": 30,
   "id": "8be138c6",
   "metadata": {},
   "outputs": [
    {
     "name": "stdout",
     "output_type": "stream",
     "text": [
      "(622, 9)\n",
      "(267, 9)\n",
      "(622,)\n",
      "(267,)\n"
     ]
    }
   ],
   "source": [
    "### Explore the dimensional sizes of each set\n",
    "print(X_train.shape)\n",
    "print(X_test.shape)\n",
    "print(y_train.shape)\n",
    "print(y_test.shape)"
   ]
  },
  {
   "cell_type": "code",
   "execution_count": 37,
   "id": "f00d3a6c",
   "metadata": {},
   "outputs": [],
   "source": [
    "### Run a Logistic Regression model since the objective is to ultimately determine a Boolean outcome:\n",
    "### Whether the passenger survived or did not survived;\n",
    "### Make sure to set the maximum iterations to at least 1000 for the model \n",
    "### to fully run due to the Limited-memory Broyden–Fletcher–Goldfarb–Shanno Algorithm ('lbfgs') base limit\n",
    "### for output size not being enough to resolve this model for this project currently\n",
    "LogReg = LogisticRegression(solver = 'lbfgs', max_iter = 1000)"
   ]
  },
  {
   "cell_type": "code",
   "execution_count": 38,
   "id": "dfc9016e",
   "metadata": {},
   "outputs": [
    {
     "data": {
      "text/plain": [
       "LogisticRegression(max_iter=1000)"
      ]
     },
     "execution_count": 38,
     "metadata": {},
     "output_type": "execute_result"
    }
   ],
   "source": [
    "LogReg.fit(X_train,y_train)"
   ]
  },
  {
   "cell_type": "code",
   "execution_count": 39,
   "id": "16589634",
   "metadata": {},
   "outputs": [],
   "source": [
    "y_pred = LogReg.predict(X_test)"
   ]
  },
  {
   "cell_type": "code",
   "execution_count": 40,
   "id": "64557336",
   "metadata": {},
   "outputs": [
    {
     "data": {
      "text/plain": [
       "array([[143,  23],\n",
       "       [ 22,  79]])"
      ]
     },
     "execution_count": 40,
     "metadata": {},
     "output_type": "execute_result"
    }
   ],
   "source": [
    "### Check the validilty of your model by running confusion matrix to measure how confused your model gets\n",
    "### when it runs the data\n",
    "metrics.confusion_matrix(y_test,y_pred)"
   ]
  },
  {
   "cell_type": "code",
   "execution_count": 41,
   "id": "0140c1a9",
   "metadata": {},
   "outputs": [
    {
     "data": {
      "text/plain": [
       "0.8314606741573034"
      ]
     },
     "execution_count": 41,
     "metadata": {},
     "output_type": "execute_result"
    }
   ],
   "source": [
    "### Checking the accuracy score of the Y test & prediction sets \n",
    "metrics.accuracy_score(y_test,y_pred)"
   ]
  },
  {
   "cell_type": "code",
   "execution_count": 43,
   "id": "a87e0691",
   "metadata": {},
   "outputs": [
    {
     "data": {
      "text/plain": [
       "267"
      ]
     },
     "execution_count": 43,
     "metadata": {},
     "output_type": "execute_result"
    }
   ],
   "source": [
    "len(X_test)"
   ]
  },
  {
   "cell_type": "code",
   "execution_count": 44,
   "id": "abe381f3",
   "metadata": {},
   "outputs": [
    {
     "name": "stdout",
     "output_type": "stream",
     "text": [
      "              precision    recall  f1-score   support\n",
      "\n",
      "           0       0.87      0.86      0.86       166\n",
      "           1       0.77      0.78      0.78       101\n",
      "\n",
      "    accuracy                           0.83       267\n",
      "   macro avg       0.82      0.82      0.82       267\n",
      "weighted avg       0.83      0.83      0.83       267\n",
      "\n"
     ]
    }
   ],
   "source": [
    "### print the classification reports to check Accuracy, Macro & Weighted Averages over \n",
    "### Precision, Recall, F1-score, and Support scores of the Y test & prediciton sets\n",
    "print(classification_report(y_test,y_pred))"
   ]
  },
  {
   "cell_type": "code",
   "execution_count": 45,
   "id": "1098e73b",
   "metadata": {},
   "outputs": [
    {
     "data": {
      "text/plain": [
       "array([[-1.04183115, -0.0398653 , -0.2423885 , -0.04062015,  1.19389228,\n",
       "        -1.19467183,  0.34933326, -0.03732589, -0.31278692]])"
      ]
     },
     "execution_count": 45,
     "metadata": {},
     "output_type": "execute_result"
    }
   ],
   "source": [
    "## Check the Coefficients in the model\n",
    "LogReg.coef_"
   ]
  },
  {
   "cell_type": "code",
   "execution_count": 46,
   "id": "3f90ac31",
   "metadata": {},
   "outputs": [
    {
     "data": {
      "text/plain": [
       "array([3.65601228])"
      ]
     },
     "execution_count": 46,
     "metadata": {},
     "output_type": "execute_result"
    }
   ],
   "source": [
    "### Check where the intercept is at in the model\n",
    "LogReg.intercept_"
   ]
  },
  {
   "cell_type": "code",
   "execution_count": 47,
   "id": "72c05389",
   "metadata": {
    "scrolled": true
   },
   "outputs": [
    {
     "data": {
      "text/plain": [
       "Index(['Pclass', 'Age', 'SibSp', 'Parch', 'Sex_female', 'Sex_male',\n",
       "       'Embarked_C', 'Embarked_Q', 'Embarked_S'],\n",
       "      dtype='object')"
      ]
     },
     "execution_count": 47,
     "metadata": {},
     "output_type": "execute_result"
    }
   ],
   "source": [
    "df_train_dummied[used_features].columns"
   ]
  },
  {
   "cell_type": "code",
   "execution_count": 48,
   "id": "3d38b322",
   "metadata": {},
   "outputs": [
    {
     "data": {
      "text/plain": [
       "array([[0.26535781, 0.73464219],\n",
       "       [0.39661965, 0.60338035],\n",
       "       [0.94737354, 0.05262646],\n",
       "       [0.259371  , 0.740629  ],\n",
       "       [0.94418276, 0.05581724],\n",
       "       [0.13498159, 0.86501841],\n",
       "       [0.33313302, 0.66686698],\n",
       "       [0.51941235, 0.48058765],\n",
       "       [0.78168938, 0.21831062],\n",
       "       [0.40730291, 0.59269709],\n",
       "       [0.74000682, 0.25999318],\n",
       "       [0.21155982, 0.78844018],\n",
       "       [0.74860811, 0.25139189],\n",
       "       [0.1457169 , 0.8542831 ],\n",
       "       [0.86459333, 0.13540667],\n",
       "       [0.36944756, 0.63055244],\n",
       "       [0.89366068, 0.10633932],\n",
       "       [0.29758109, 0.70241891],\n",
       "       [0.17626119, 0.82373881],\n",
       "       [0.39885804, 0.60114196],\n",
       "       [0.90487712, 0.09512288],\n",
       "       [0.55280964, 0.44719036],\n",
       "       [0.864343  , 0.135657  ],\n",
       "       [0.93753461, 0.06246539],\n",
       "       [0.51623464, 0.48376536],\n",
       "       [0.51584271, 0.48415729],\n",
       "       [0.03914167, 0.96085833],\n",
       "       [0.86919296, 0.13080704],\n",
       "       [0.89808227, 0.10191773],\n",
       "       [0.32512496, 0.67487504],\n",
       "       [0.38820662, 0.61179338],\n",
       "       [0.40768182, 0.59231818],\n",
       "       [0.1549865 , 0.8450135 ],\n",
       "       [0.41469853, 0.58530147],\n",
       "       [0.59104665, 0.40895335],\n",
       "       [0.165718  , 0.834282  ],\n",
       "       [0.65713387, 0.34286613],\n",
       "       [0.87365918, 0.12634082],\n",
       "       [0.2434331 , 0.7565669 ],\n",
       "       [0.5756419 , 0.4243581 ],\n",
       "       [0.43683412, 0.56316588],\n",
       "       [0.91134941, 0.08865059],\n",
       "       [0.31616442, 0.68383558],\n",
       "       [0.87365918, 0.12634082],\n",
       "       [0.79655921, 0.20344079],\n",
       "       [0.23545418, 0.76454582],\n",
       "       [0.17054751, 0.82945249],\n",
       "       [0.8160566 , 0.1839434 ],\n",
       "       [0.06077676, 0.93922324],\n",
       "       [0.92356648, 0.07643352],\n",
       "       [0.87365918, 0.12634082],\n",
       "       [0.42706738, 0.57293262],\n",
       "       [0.88397012, 0.11602988],\n",
       "       [0.09117868, 0.90882132],\n",
       "       [0.74860811, 0.25139189],\n",
       "       [0.07059209, 0.92940791],\n",
       "       [0.77741475, 0.22258525],\n",
       "       [0.9515323 , 0.0484677 ],\n",
       "       [0.70098878, 0.29901122],\n",
       "       [0.93711468, 0.06288532],\n",
       "       [0.81525469, 0.18474531],\n",
       "       [0.85985803, 0.14014197],\n",
       "       [0.59104665, 0.40895335],\n",
       "       [0.87365918, 0.12634082],\n",
       "       [0.42706738, 0.57293262],\n",
       "       [0.23616626, 0.76383374],\n",
       "       [0.87365918, 0.12634082],\n",
       "       [0.91152188, 0.08847812],\n",
       "       [0.84473485, 0.15526515],\n",
       "       [0.0543367 , 0.9456633 ],\n",
       "       [0.86407146, 0.13592854],\n",
       "       [0.05642191, 0.94357809],\n",
       "       [0.65273801, 0.34726199],\n",
       "       [0.85985803, 0.14014197],\n",
       "       [0.31451118, 0.68548882],\n",
       "       [0.13498159, 0.86501841],\n",
       "       [0.84000243, 0.15999757],\n",
       "       [0.92379183, 0.07620817],\n",
       "       [0.8255765 , 0.1744235 ],\n",
       "       [0.83333522, 0.16666478],\n",
       "       [0.84000243, 0.15999757],\n",
       "       [0.86459333, 0.13540667],\n",
       "       [0.03914167, 0.96085833],\n",
       "       [0.05984888, 0.94015112],\n",
       "       [0.76331365, 0.23668635],\n",
       "       [0.61960919, 0.38039081],\n",
       "       [0.43892133, 0.56107867],\n",
       "       [0.42725209, 0.57274791],\n",
       "       [0.87365918, 0.12634082],\n",
       "       [0.36944756, 0.63055244],\n",
       "       [0.8977893 , 0.1022107 ],\n",
       "       [0.32512496, 0.67487504],\n",
       "       [0.93428654, 0.06571346],\n",
       "       [0.7810143 , 0.2189857 ],\n",
       "       [0.24657243, 0.75342757],\n",
       "       [0.83923047, 0.16076953],\n",
       "       [0.22929476, 0.77070524],\n",
       "       [0.27462327, 0.72537673],\n",
       "       [0.24657243, 0.75342757],\n",
       "       [0.2146094 , 0.7853906 ],\n",
       "       [0.8499719 , 0.1500281 ],\n",
       "       [0.34221733, 0.65778267],\n",
       "       [0.60565453, 0.39434547],\n",
       "       [0.85498491, 0.14501509],\n",
       "       [0.85498491, 0.14501509],\n",
       "       [0.90603633, 0.09396367],\n",
       "       [0.13643521, 0.86356479],\n",
       "       [0.8499719 , 0.1500281 ],\n",
       "       [0.76707292, 0.23292708],\n",
       "       [0.8160566 , 0.1839434 ],\n",
       "       [0.63895169, 0.36104831],\n",
       "       [0.74860811, 0.25139189],\n",
       "       [0.7810143 , 0.2189857 ],\n",
       "       [0.18606797, 0.81393203],\n",
       "       [0.35989163, 0.64010837],\n",
       "       [0.08606055, 0.91393945],\n",
       "       [0.91579374, 0.08420626],\n",
       "       [0.40730291, 0.59269709],\n",
       "       [0.06402049, 0.93597951],\n",
       "       [0.79090587, 0.20909413],\n",
       "       [0.87799432, 0.12200568],\n",
       "       [0.20603052, 0.79396948],\n",
       "       [0.32512496, 0.67487504],\n",
       "       [0.50237651, 0.49762349],\n",
       "       [0.20773897, 0.79226103],\n",
       "       [0.89217003, 0.10782997],\n",
       "       [0.44301594, 0.55698406],\n",
       "       [0.90970087, 0.09029913],\n",
       "       [0.88220076, 0.11779924],\n",
       "       [0.57759998, 0.42240002],\n",
       "       [0.44708182, 0.55291818],\n",
       "       [0.60565453, 0.39434547],\n",
       "       [0.87857812, 0.12142188],\n",
       "       [0.59104665, 0.40895335],\n",
       "       [0.36944756, 0.63055244],\n",
       "       [0.07075246, 0.92924754],\n",
       "       [0.85985803, 0.14014197],\n",
       "       [0.92633354, 0.07366646],\n",
       "       [0.87365918, 0.12634082],\n",
       "       [0.89023741, 0.10976259],\n",
       "       [0.85921413, 0.14078587],\n",
       "       [0.31520077, 0.68479923],\n",
       "       [0.92356648, 0.07643352],\n",
       "       [0.38896611, 0.61103389],\n",
       "       [0.59104665, 0.40895335],\n",
       "       [0.69232244, 0.30767756],\n",
       "       [0.17969014, 0.82030986],\n",
       "       [0.1068316 , 0.8931684 ],\n",
       "       [0.07879823, 0.92120177],\n",
       "       [0.9295043 , 0.0704957 ],\n",
       "       [0.85709683, 0.14290317],\n",
       "       [0.93650228, 0.06349772],\n",
       "       [0.14223814, 0.85776186],\n",
       "       [0.8499719 , 0.1500281 ],\n",
       "       [0.37915112, 0.62084888],\n",
       "       [0.36944756, 0.63055244],\n",
       "       [0.79002252, 0.20997748],\n",
       "       [0.37203704, 0.62796296],\n",
       "       [0.89023741, 0.10976259],\n",
       "       [0.87365918, 0.12634082],\n",
       "       [0.50237651, 0.49762349],\n",
       "       [0.7704402 , 0.2295598 ],\n",
       "       [0.57759998, 0.42240002],\n",
       "       [0.86996334, 0.13003666],\n",
       "       [0.87306933, 0.12693067],\n",
       "       [0.83407463, 0.16592537],\n",
       "       [0.13681229, 0.86318771],\n",
       "       [0.05940574, 0.94059426],\n",
       "       [0.7785191 , 0.2214809 ],\n",
       "       [0.23630246, 0.76369754],\n",
       "       [0.8499719 , 0.1500281 ],\n",
       "       [0.89909375, 0.10090625],\n",
       "       [0.84000243, 0.15999757],\n",
       "       [0.87365918, 0.12634082],\n",
       "       [0.67990562, 0.32009438],\n",
       "       [0.2907373 , 0.7092627 ],\n",
       "       [0.86459333, 0.13540667],\n",
       "       [0.70927717, 0.29072283],\n",
       "       [0.87365918, 0.12634082],\n",
       "       [0.8499719 , 0.1500281 ],\n",
       "       [0.84000243, 0.15999757],\n",
       "       [0.87365918, 0.12634082],\n",
       "       [0.65126069, 0.34873931],\n",
       "       [0.93245072, 0.06754928],\n",
       "       [0.32512496, 0.67487504],\n",
       "       [0.82713992, 0.17286008],\n",
       "       [0.38038146, 0.61961854],\n",
       "       [0.58137697, 0.41862303],\n",
       "       [0.22797737, 0.77202263],\n",
       "       [0.90487712, 0.09512288],\n",
       "       [0.75564162, 0.24435838],\n",
       "       [0.7169951 , 0.2830049 ],\n",
       "       [0.86459333, 0.13540667],\n",
       "       [0.7638907 , 0.2361093 ],\n",
       "       [0.93673686, 0.06326314],\n",
       "       [0.74760309, 0.25239691],\n",
       "       [0.89880336, 0.10119664],\n",
       "       [0.28953399, 0.71046601],\n",
       "       [0.59104665, 0.40895335],\n",
       "       [0.06558305, 0.93441695],\n",
       "       [0.70196382, 0.29803618],\n",
       "       [0.18292001, 0.81707999],\n",
       "       [0.77846646, 0.22153354],\n",
       "       [0.54733051, 0.45266949],\n",
       "       [0.04751105, 0.95248895],\n",
       "       [0.89023741, 0.10976259],\n",
       "       [0.87584299, 0.12415701],\n",
       "       [0.32270161, 0.67729839],\n",
       "       [0.81014935, 0.18985065],\n",
       "       [0.08792864, 0.91207136],\n",
       "       [0.84000243, 0.15999757],\n",
       "       [0.74103161, 0.25896839],\n",
       "       [0.7810143 , 0.2189857 ],\n",
       "       [0.76707292, 0.23292708],\n",
       "       [0.30812951, 0.69187049],\n",
       "       [0.19492208, 0.80507792],\n",
       "       [0.75603592, 0.24396408],\n",
       "       [0.19279535, 0.80720465],\n",
       "       [0.9146847 , 0.0853153 ],\n",
       "       [0.6921114 , 0.3078886 ],\n",
       "       [0.86996334, 0.13003666],\n",
       "       [0.49789113, 0.50210887],\n",
       "       [0.66998993, 0.33001007],\n",
       "       [0.2214052 , 0.7785948 ],\n",
       "       [0.24329411, 0.75670589],\n",
       "       [0.86459333, 0.13540667],\n",
       "       [0.57391637, 0.42608363],\n",
       "       [0.84000243, 0.15999757],\n",
       "       [0.78775608, 0.21224392],\n",
       "       [0.74875014, 0.25124986],\n",
       "       [0.38038146, 0.61961854],\n",
       "       [0.29430041, 0.70569959],\n",
       "       [0.46723997, 0.53276003],\n",
       "       [0.84000243, 0.15999757],\n",
       "       [0.8977893 , 0.1022107 ],\n",
       "       [0.89054938, 0.10945062],\n",
       "       [0.87365918, 0.12634082],\n",
       "       [0.79857438, 0.20142562],\n",
       "       [0.3529937 , 0.6470063 ],\n",
       "       [0.87799432, 0.12200568],\n",
       "       [0.29758109, 0.70241891],\n",
       "       [0.84000243, 0.15999757],\n",
       "       [0.8499719 , 0.1500281 ],\n",
       "       [0.67069635, 0.32930365],\n",
       "       [0.51682953, 0.48317047],\n",
       "       [0.09860656, 0.90139344],\n",
       "       [0.13311845, 0.86688155],\n",
       "       [0.79759331, 0.20240669],\n",
       "       [0.69142979, 0.30857021],\n",
       "       [0.87401161, 0.12598839],\n",
       "       [0.24186555, 0.75813445],\n",
       "       [0.32512496, 0.67487504],\n",
       "       [0.39771584, 0.60228416],\n",
       "       [0.94112356, 0.05887644],\n",
       "       [0.10909674, 0.89090326],\n",
       "       [0.22559104, 0.77440896],\n",
       "       [0.88220076, 0.11779924],\n",
       "       [0.90487712, 0.09512288],\n",
       "       [0.03919849, 0.96080151],\n",
       "       [0.7810143 , 0.2189857 ],\n",
       "       [0.20147642, 0.79852358],\n",
       "       [0.87405558, 0.12594442],\n",
       "       [0.65730392, 0.34269608],\n",
       "       [0.87365918, 0.12634082],\n",
       "       [0.29430041, 0.70569959],\n",
       "       [0.84000243, 0.15999757],\n",
       "       [0.91190071, 0.08809929]])"
      ]
     },
     "execution_count": 48,
     "metadata": {},
     "output_type": "execute_result"
    }
   ],
   "source": [
    "### Run the probability prediction on the X test set in the Logistic Regression Model\n",
    "LogReg.predict_proba(X_test) ### first column (left) shows the probability of the passenger not surviving, \n",
    "                            ### second column (right) shows the probability of the passenger surviving"
   ]
  },
  {
   "cell_type": "code",
   "execution_count": null,
   "id": "0d69497a",
   "metadata": {},
   "outputs": [],
   "source": []
  },
  {
   "cell_type": "code",
   "execution_count": null,
   "id": "2e53e7ab",
   "metadata": {},
   "outputs": [],
   "source": []
  },
  {
   "cell_type": "code",
   "execution_count": null,
   "id": "7aa3a7c7",
   "metadata": {},
   "outputs": [],
   "source": []
  },
  {
   "cell_type": "code",
   "execution_count": null,
   "id": "67fde8e1",
   "metadata": {},
   "outputs": [],
   "source": []
  }
 ],
 "metadata": {
  "kernelspec": {
   "display_name": "Python 3 (ipykernel)",
   "language": "python",
   "name": "python3"
  },
  "language_info": {
   "codemirror_mode": {
    "name": "ipython",
    "version": 3
   },
   "file_extension": ".py",
   "mimetype": "text/x-python",
   "name": "python",
   "nbconvert_exporter": "python",
   "pygments_lexer": "ipython3",
   "version": "3.10.4"
  }
 },
 "nbformat": 4,
 "nbformat_minor": 5
}
